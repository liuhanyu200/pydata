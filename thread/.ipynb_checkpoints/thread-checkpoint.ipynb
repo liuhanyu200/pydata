{
 "cells": [
  {
   "cell_type": "code",
   "execution_count": 7,
   "id": "returning-execution",
   "metadata": {},
   "outputs": [],
   "source": [
    "# import _thread\n",
    "from time import sleep, ctime\n",
    "\n",
    "def loop0():\n",
    "    print('start loop0 at:', ctime())\n",
    "    sleep(4)\n",
    "    print('loop0 down at:', ctime())\n",
    "def loop1():\n",
    "    print('start loop1 at:', ctime())\n",
    "    sleep(4)\n",
    "    print('loop1 down at:', ctime())\n",
    "\n",
    "def main():\n",
    "    print('start all at:', ctime())\n",
    "    loop0()\n",
    "    loop1()\n",
    "    print('all down at:', ctime())\n",
    "    \n",
    "if __name__ == '__main__':\n",
    "    main()"
   ]
  },
  {
   "cell_type": "code",
   "execution_count": null,
   "id": "apart-property",
   "metadata": {},
   "outputs": [],
   "source": []
  }
 ],
 "metadata": {
  "kernelspec": {
   "display_name": "Python 3",
   "language": "python",
   "name": "python3"
  },
  "language_info": {
   "codemirror_mode": {
    "name": "ipython",
    "version": 3
   },
   "file_extension": ".py",
   "mimetype": "text/x-python",
   "name": "python",
   "nbconvert_exporter": "python",
   "pygments_lexer": "ipython3",
   "version": "3.8.5"
  }
 },
 "nbformat": 4,
 "nbformat_minor": 5
}
