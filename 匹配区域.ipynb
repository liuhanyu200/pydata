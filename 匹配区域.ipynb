{
 "cells": [
  {
   "cell_type": "markdown",
   "id": "ideal-infrared",
   "metadata": {},
   "source": [
    "#### 匹配单位ID"
   ]
  },
  {
   "cell_type": "code",
   "execution_count": 7,
   "id": "available-oklahoma",
   "metadata": {},
   "outputs": [],
   "source": [
    "# coding:utf-8\n",
    "import pandas as pd\n",
    "\n",
    "db_info = pd.read_csv(\"out.csv\", encoding='gbk')\n",
    "quyu_info = pd.read_csv(\"quyu.csv\", encoding='utf-8')\n",
    "\n",
    "d = [x for x in db_info['等保单位名称'].items()]\n",
    "z = [y for y in quyu_info['等保单位名称'].items()]\n",
    "for i, v in d:\n",
    "    for i2, v2 in z:\n",
    "        if v == v2:\n",
    "            db_info.loc[i, '区域名称'] = quyu_info.loc[i2, '所在区域']\n",
    "db_info.to_csv('new_out.csv', encoding='gbk')"
   ]
  },
  {
   "cell_type": "code",
   "execution_count": 8,
   "id": "fluid-battlefield",
   "metadata": {},
   "outputs": [],
   "source": [
    "# coding:utf-8\n",
    "import pandas as pd\n",
    "def simple_merge(df1, df2):\n",
    "    d = [x for x in df1['等保单位名称'].items()]\n",
    "    z = [y for y in df2['等保单位名称'].items()]\n",
    "    for i, v in d:\n",
    "        for i2, v2 in z:\n",
    "            if v == v2:\n",
    "                df1.loc[i, '区域名称'] = df2.loc[i2, '所在区域']\n",
    "    return df1\n",
    "\n",
    "df1 = pd.read_csv(\"out.csv\", encoding='gbk')\n",
    "df2 = pd.read_csv(\"quyu.csv\", encoding='utf-8')\n",
    "df1 = simple_merge(df1, df2)\n",
    "df1.to_csv('new_out.csv', encoding='gbk')"
   ]
  },
  {
   "cell_type": "code",
   "execution_count": null,
   "id": "portuguese-hawaiian",
   "metadata": {},
   "outputs": [],
   "source": []
  }
 ],
 "metadata": {
  "kernelspec": {
   "display_name": "Python 3",
   "language": "python",
   "name": "python3"
  },
  "language_info": {
   "codemirror_mode": {
    "name": "ipython",
    "version": 3
   },
   "file_extension": ".py",
   "mimetype": "text/x-python",
   "name": "python",
   "nbconvert_exporter": "python",
   "pygments_lexer": "ipython3",
   "version": "3.8.5"
  }
 },
 "nbformat": 4,
 "nbformat_minor": 5
}
