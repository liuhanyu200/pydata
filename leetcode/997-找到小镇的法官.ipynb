{
 "cells": [
  {
   "cell_type": "markdown",
   "id": "american-scanner",
   "metadata": {},
   "source": [
    "#### 997-找到小镇的法官"
   ]
  },
  {
   "cell_type": "markdown",
   "id": "judicial-message",
   "metadata": {},
   "source": [
    "- 在一个小镇里，按从 1 到 n 为 n 个人进行编号。传言称，这些人中有一个是小镇上的秘密法官。如果小镇的法官真的存在，那么：小镇的法官不相信任何人。每个人（除了小镇法官外）都信任小镇的法官。只有一个人同时满足条件 1 和条件 2 。给定数组 trust，该数组由信任对 trust[i] = [a, b] 组成，表示编号为 a 的人信任编号为 b 的人。如果小镇存在秘密法官并且可以确定他的身份，请返回该法官的编号。否则，返回 -1。"
   ]
  },
  {
   "cell_type": "code",
   "execution_count": 14,
   "id": "juvenile-mitchell",
   "metadata": {},
   "outputs": [
    {
     "data": {
      "text/plain": [
       "3"
      ]
     },
     "execution_count": 14,
     "metadata": {},
     "output_type": "execute_result"
    }
   ],
   "source": [
    "from typing import List\n",
    "class Solution:\n",
    "    def findJudge(self, N: int, trust: List[List[int]]) -> int:\n",
    "        in_degree = [0] * (N + 1)\n",
    "        out_degree = [0] * (N + 1)\n",
    "        for a, b in trust:\n",
    "            in_degree[b] += 1\n",
    "            out_degree[a] += 1\n",
    "        for i in range(1, N+1):\n",
    "            if in_degree[i] == N - 1 and out_degree[i] == 0:\n",
    "                return i\n",
    "        return -1\n",
    "\n",
    "n = 4\n",
    "trust = trust = [[2,3],[1,4],[2,3],[2,4],[4,3],[1,2]]\n",
    "s = Solution()\n",
    "s.findJudge(n, trust)\n",
    "        "
   ]
  },
  {
   "cell_type": "code",
   "execution_count": null,
   "id": "front-velvet",
   "metadata": {},
   "outputs": [],
   "source": []
  }
 ],
 "metadata": {
  "kernelspec": {
   "display_name": "Python 3",
   "language": "python",
   "name": "python3"
  },
  "language_info": {
   "codemirror_mode": {
    "name": "ipython",
    "version": 3
   },
   "file_extension": ".py",
   "mimetype": "text/x-python",
   "name": "python",
   "nbconvert_exporter": "python",
   "pygments_lexer": "ipython3",
   "version": "3.8.5"
  }
 },
 "nbformat": 4,
 "nbformat_minor": 5
}
