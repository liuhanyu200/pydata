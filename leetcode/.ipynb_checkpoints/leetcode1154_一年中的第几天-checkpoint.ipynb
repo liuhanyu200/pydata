{
 "cells": [
  {
   "cell_type": "markdown",
   "id": "vertical-album",
   "metadata": {},
   "source": [
    "#### leetcode 1154 一年中的第几天"
   ]
  },
  {
   "cell_type": "markdown",
   "id": "typical-registrar",
   "metadata": {},
   "source": [
    "- 给你一个按 YYYY-MM-DD 格式表示日期的字符串 date，请你计算并返回该日期是当年的第几天。通常情况下，我们认为 1 月 1 日是每年的第 1 天，1 月 2 日是每年的第 2 天，依此类推。每个月的天数与现行公元纪年法（格里高利历）一致。"
   ]
  },
  {
   "cell_type": "code",
   "execution_count": 25,
   "id": "impossible-credits",
   "metadata": {},
   "outputs": [],
   "source": [
    "from typing import List\n",
    "class Solution:\n",
    "    def day_of_year(self, date: str) -> int:\n",
    "        year = int(date[0:4])\n",
    "        month = int(date[5:7])\n",
    "        day = int(date[8:])\n",
    "        dic = [31,28,31,30,31,30,31,31,30,31,30,31]\n",
    "        if year % 400 == 0 or year % 4 == 0 and year%100 != 0:\n",
    "            dic[1] = 29\n",
    "        return sum(dic[:month-1]) + day\n",
    "#         print(year)\n",
    "#         print(month)\n",
    "#         print(day)"
   ]
  },
  {
   "cell_type": "code",
   "execution_count": 26,
   "id": "immune-warrior",
   "metadata": {},
   "outputs": [
    {
     "data": {
      "text/plain": [
       "251"
      ]
     },
     "execution_count": 26,
     "metadata": {},
     "output_type": "execute_result"
    }
   ],
   "source": [
    "d = Solution()\n",
    "d.day_of_year('2021-09-08')"
   ]
  }
 ],
 "metadata": {
  "kernelspec": {
   "display_name": "Python 3",
   "language": "python",
   "name": "python3"
  },
  "language_info": {
   "codemirror_mode": {
    "name": "ipython",
    "version": 3
   },
   "file_extension": ".py",
   "mimetype": "text/x-python",
   "name": "python",
   "nbconvert_exporter": "python",
   "pygments_lexer": "ipython3",
   "version": "3.8.5"
  }
 },
 "nbformat": 4,
 "nbformat_minor": 5
}
