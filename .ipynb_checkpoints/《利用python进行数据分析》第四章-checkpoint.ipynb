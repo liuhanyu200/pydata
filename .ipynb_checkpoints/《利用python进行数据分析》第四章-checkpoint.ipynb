{
 "cells": [
  {
   "cell_type": "markdown",
   "id": "mobile-hacker",
   "metadata": {},
   "source": [
    "### 《利用python进行数据分析》第四章"
   ]
  },
  {
   "cell_type": "code",
   "execution_count": 5,
   "id": "offshore-jerusalem",
   "metadata": {},
   "outputs": [],
   "source": [
    "import numpy as np\n",
    "my_arr = np.arange(1000000)\n",
    "my_list = list(range(1000000))"
   ]
  },
  {
   "cell_type": "code",
   "execution_count": 6,
   "id": "transparent-laptop",
   "metadata": {},
   "outputs": [
    {
     "name": "stdout",
     "output_type": "stream",
     "text": [
      "Wall time: 16.5 ms\n"
     ]
    }
   ],
   "source": [
    "%time for _ in range(10): my_arr2 = my_arr * 2"
   ]
  },
  {
   "cell_type": "code",
   "execution_count": 7,
   "id": "uniform-anderson",
   "metadata": {},
   "outputs": [
    {
     "name": "stdout",
     "output_type": "stream",
     "text": [
      "Wall time: 170 ms\n"
     ]
    }
   ],
   "source": [
    "%time for _ in range(10): my_list2 = my_list * 2"
   ]
  },
  {
   "cell_type": "code",
   "execution_count": 8,
   "id": "committed-drawing",
   "metadata": {},
   "outputs": [
    {
     "data": {
      "text/plain": [
       "array([[ 0.32148014,  0.46201035, -0.67229324],\n",
       "       [ 0.34433388, -0.11450017,  1.4252854 ]])"
      ]
     },
     "execution_count": 8,
     "metadata": {},
     "output_type": "execute_result"
    }
   ],
   "source": [
    "import numpy as np\n",
    "data = np.random.randn(2, 3)\n",
    "data"
   ]
  },
  {
   "cell_type": "code",
   "execution_count": 9,
   "id": "possible-consortium",
   "metadata": {},
   "outputs": [
    {
     "data": {
      "text/plain": [
       "array([[ 3.21480145,  4.62010349, -6.72293241],\n",
       "       [ 3.44333879, -1.14500175, 14.25285404]])"
      ]
     },
     "execution_count": 9,
     "metadata": {},
     "output_type": "execute_result"
    }
   ],
   "source": [
    "data * 10"
   ]
  },
  {
   "cell_type": "code",
   "execution_count": 10,
   "id": "powered-grammar",
   "metadata": {},
   "outputs": [
    {
     "data": {
      "text/plain": [
       "array([[ 0.64296029,  0.9240207 , -1.34458648],\n",
       "       [ 0.68866776, -0.22900035,  2.85057081]])"
      ]
     },
     "execution_count": 10,
     "metadata": {},
     "output_type": "execute_result"
    }
   ],
   "source": [
    "data + data"
   ]
  },
  {
   "cell_type": "code",
   "execution_count": 11,
   "id": "combined-shanghai",
   "metadata": {},
   "outputs": [
    {
     "data": {
      "text/plain": [
       "(2, 3)"
      ]
     },
     "execution_count": 11,
     "metadata": {},
     "output_type": "execute_result"
    }
   ],
   "source": [
    "data.shape"
   ]
  },
  {
   "cell_type": "code",
   "execution_count": 12,
   "id": "tender-conjunction",
   "metadata": {},
   "outputs": [
    {
     "data": {
      "text/plain": [
       "dtype('float64')"
      ]
     },
     "execution_count": 12,
     "metadata": {},
     "output_type": "execute_result"
    }
   ],
   "source": [
    "data.dtype"
   ]
  },
  {
   "cell_type": "markdown",
   "id": "premium-crowd",
   "metadata": {},
   "source": [
    "##### 创建ndarray数组"
   ]
  },
  {
   "cell_type": "code",
   "execution_count": 14,
   "id": "conceptual-confusion",
   "metadata": {},
   "outputs": [
    {
     "data": {
      "text/plain": [
       "array([6. , 7.5, 8. , 0. , 1. ])"
      ]
     },
     "execution_count": 14,
     "metadata": {},
     "output_type": "execute_result"
    }
   ],
   "source": [
    "data1 = [6, 7.5, 8, 0, 1]\n",
    "arr1 = np.array(data1)\n",
    "arr1"
   ]
  },
  {
   "cell_type": "code",
   "execution_count": 15,
   "id": "municipal-inquiry",
   "metadata": {},
   "outputs": [
    {
     "data": {
      "text/plain": [
       "array([[1, 2, 3, 4],\n",
       "       [5, 6, 7, 8]])"
      ]
     },
     "execution_count": 15,
     "metadata": {},
     "output_type": "execute_result"
    }
   ],
   "source": [
    "data2 = [[1, 2, 3, 4], [5, 6, 7, 8]]\n",
    "arr2 = np.array(data2)\n",
    "arr2"
   ]
  },
  {
   "cell_type": "code",
   "execution_count": 24,
   "id": "speaking-tunisia",
   "metadata": {},
   "outputs": [
    {
     "data": {
      "text/plain": [
       "array([0, 1, 2, 3, 4, 5, 6, 7, 8, 9])"
      ]
     },
     "execution_count": 24,
     "metadata": {},
     "output_type": "execute_result"
    }
   ],
   "source": [
    "import numpy as np\n",
    "np.zeros(10)\n",
    "np.zeros((3,6))\n",
    "np.empty((2, 3, 2))\n",
    "np.arange(10)"
   ]
  },
  {
   "cell_type": "code",
   "execution_count": 39,
   "id": "rotary-january",
   "metadata": {},
   "outputs": [
    {
     "data": {
      "text/plain": [
       "array([ 1.23, -9.6 , 42.5 ])"
      ]
     },
     "execution_count": 39,
     "metadata": {},
     "output_type": "execute_result"
    }
   ],
   "source": [
    "import numpy as np\n",
    "arr1 = np.array([1, 2, 3], dtype=np.float64)\n",
    "arr2 = np.array([1, 2, 3], dtype=np.int32)\n",
    "arr1\n",
    "arr2\n",
    "arr1.dtype\n",
    "arr2.dtype\n",
    "arr = np.array([1, 2, 3, 4, 5])\n",
    "arr.dtype\n",
    "float_arr = arr.astype(np.float64)\n",
    "float_arr\n",
    "float_arr.dtype\n",
    "arr = np.array([3.2, 1.2, -2.5, -3.1, 12.9])\n",
    "arr\n",
    "arr.dtype\n",
    "arr.astype(np.int32)\n",
    "numeric_strings = np.array(['1.23', '-9.6', '42.5'])\n",
    "numeric_strings.astype(np.float64)"
   ]
  },
  {
   "cell_type": "code",
   "execution_count": 51,
   "id": "incident-norwegian",
   "metadata": {},
   "outputs": [
    {
     "data": {
      "text/plain": [
       "array([[False,  True, False],\n",
       "       [ True, False,  True]])"
      ]
     },
     "execution_count": 51,
     "metadata": {},
     "output_type": "execute_result"
    }
   ],
   "source": [
    "import numpy as np\n",
    "int_array = np.arange(10)\n",
    "calibers = np.array([.22, .270, .357, .380])\n",
    "calibers.dtype # float64\n",
    "int_array.astype(calibers.dtype)\n",
    "empty_uint32 = np.empty(8, dtype='u4')\n",
    "empty_uint32\n",
    "arr = np.array([[1., 2., 3.], [4., 5., 6.]])\n",
    "arr\n",
    "1 / arr\n",
    "arr ** 0.5\n",
    "arr2 = np.array([[0., 4., 1.], [7., 2., 12.]])\n",
    "arr2\n",
    "# 不同大小数组之间的运算叫做广播\n",
    "arr2 > arr"
   ]
  },
  {
   "cell_type": "markdown",
   "id": "worthy-norman",
   "metadata": {},
   "source": [
    "##### 基本的索引和切片"
   ]
  },
  {
   "cell_type": "code",
   "execution_count": 62,
   "id": "suitable-surge",
   "metadata": {},
   "outputs": [
    {
     "data": {
      "text/plain": [
       "array([     5, 123456,      7])"
      ]
     },
     "execution_count": 62,
     "metadata": {},
     "output_type": "execute_result"
    }
   ],
   "source": [
    "import numpy as np\n",
    "arr = np.arange(10)\n",
    "arr\n",
    "arr[5]\n",
    "arr[5:8]\n",
    "arr[-3:-1]\n",
    "arr_slice = arr[5:8]\n",
    "arr_slice\n",
    "# 对切片的操作会作用与原数组\n",
    "arr_slice[1] = 123456\n",
    "arr_slice\n",
    "arr\n",
    "arr_slice.copy()"
   ]
  },
  {
   "cell_type": "code",
   "execution_count": 76,
   "id": "geological-appraisal",
   "metadata": {},
   "outputs": [
    {
     "data": {
      "text/plain": [
       "array([[[42, 42, 42],\n",
       "        [42, 42, 42]],\n",
       "\n",
       "       [[ 7,  8,  9],\n",
       "        [10, 11, 12]]])"
      ]
     },
     "execution_count": 76,
     "metadata": {},
     "output_type": "execute_result"
    }
   ],
   "source": [
    "import numpy as np\n",
    "arr2d = np.array([[1, 2, 3], [4, 5, 6], [7, 8, 9]])\n",
    "arr2d[0][2]\n",
    "arr2d[0, 2]\n",
    "arr3d = np.array([[[1, 2, 3], [4, 5, 6]], [[7, 8, 9], [10, 11, 12]]])\n",
    "arr3d\n",
    "arr3d[0]\n",
    "old_values = arr3d[0].copy()\n",
    "old_values\n",
    "arr3d[0] = 42\n",
    "arr3d"
   ]
  },
  {
   "cell_type": "markdown",
   "id": "alternate-accused",
   "metadata": {},
   "source": [
    "##### 二维数组切片"
   ]
  },
  {
   "cell_type": "code",
   "execution_count": 78,
   "id": "crazy-equality",
   "metadata": {},
   "outputs": [
    {
     "data": {
      "text/plain": [
       "array([[2, 3],\n",
       "       [5, 6]])"
      ]
     },
     "execution_count": 78,
     "metadata": {},
     "output_type": "execute_result"
    }
   ],
   "source": [
    "import numpy as np\n",
    "arr = np.array([\n",
    "    [1, 2, 3],\n",
    "    [4, 5, 6],\n",
    "    [7, 9, 9]\n",
    "])\n",
    "arr[:1, -2:]\n",
    "arr[:2, 1:]\n"
   ]
  },
  {
   "cell_type": "markdown",
   "id": "weighted-movie",
   "metadata": {},
   "source": [
    "##### 布尔索引"
   ]
  },
  {
   "cell_type": "code",
   "execution_count": 94,
   "id": "direct-guinea",
   "metadata": {
    "scrolled": true
   },
   "outputs": [
    {
     "name": "stdout",
     "output_type": "stream",
     "text": [
      "[[ 0.28157271  0.94252746 -0.49478915 -1.61105169]\n",
      " [ 0.71306952  0.00970295  0.69322475 -1.0194867 ]]\n",
      "[[-0.49478915 -1.61105169]\n",
      " [ 0.69322475 -1.0194867 ]]\n",
      "[[-0.10317684  0.76924845  1.38943143  0.72447456]\n",
      " [-0.38252517 -0.72382272 -0.18079278 -1.27588834]\n",
      " [ 1.42839234  0.80194166  0.03514212 -0.34605425]\n",
      " [ 0.85495215 -0.12103004 -0.26046608 -0.78659709]\n",
      " [-0.1621414   1.33922832 -0.32953234 -0.74196179]]\n",
      "[[-0.10317684  0.76924845  1.38943143  0.72447456]\n",
      " [-0.38252517 -0.72382272 -0.18079278 -1.27588834]\n",
      " [ 1.42839234  0.80194166  0.03514212 -0.34605425]\n",
      " [ 0.85495215 -0.12103004 -0.26046608 -0.78659709]\n",
      " [-0.1621414   1.33922832 -0.32953234 -0.74196179]]\n"
     ]
    },
    {
     "data": {
      "text/plain": [
       "array([[7.        , 7.        , 7.        , 7.        ],\n",
       "       [0.        , 0.76924845, 1.38943143, 0.72447456],\n",
       "       [7.        , 7.        , 7.        , 7.        ],\n",
       "       [7.        , 7.        , 7.        , 7.        ],\n",
       "       [7.        , 7.        , 7.        , 7.        ],\n",
       "       [0.85495215, 0.        , 0.        , 0.        ],\n",
       "       [0.        , 1.33922832, 0.        , 0.        ]])"
      ]
     },
     "execution_count": 94,
     "metadata": {},
     "output_type": "execute_result"
    }
   ],
   "source": [
    "names = np.array(['Bob', 'Joe', 'Will', 'Bob', 'Will', 'Joe', 'Joe'])\n",
    "data = np.random.randn(7, 4)\n",
    "names\n",
    "data\n",
    "names == 'Bob'\n",
    "print(data[names == 'Bob'])\n",
    "print(data[names == 'Bob', 2:])\n",
    "print(data[names != 'Bob'])\n",
    "print(data[~(names == 'Bob')])\n",
    "cond = names == 'Bob'\n",
    "data[~cond]\n",
    "mask = (names == 'Bob') | (names == 'Will')\n",
    "data[mask]\n",
    "data[data < 0] = 0\n",
    "data\n",
    "data[names != 'Joe'] = 7\n",
    "data"
   ]
  },
  {
   "cell_type": "markdown",
   "id": "continuous-component",
   "metadata": {},
   "source": [
    "##### 花式索引"
   ]
  },
  {
   "cell_type": "code",
   "execution_count": 103,
   "id": "controlled-pleasure",
   "metadata": {},
   "outputs": [
    {
     "name": "stdout",
     "output_type": "stream",
     "text": [
      "[[ 0  1  2  3]\n",
      " [ 4  5  6  7]\n",
      " [ 8  9 10 11]\n",
      " [12 13 14 15]\n",
      " [16 17 18 19]\n",
      " [20 21 22 23]\n",
      " [24 25 26 27]\n",
      " [28 29 30 31]]\n"
     ]
    },
    {
     "data": {
      "text/plain": [
       "array([[ 4,  7,  5,  6],\n",
       "       [20, 23, 21, 22],\n",
       "       [28, 31, 29, 30],\n",
       "       [ 8, 11,  9, 10]])"
      ]
     },
     "execution_count": 103,
     "metadata": {},
     "output_type": "execute_result"
    }
   ],
   "source": [
    "arr = np.empty((8, 4))\n",
    "for i in range(8):\n",
    "    arr[i] = i\n",
    "arr\n",
    "arr[[4, 3, 0, 6]]\n",
    "arr[[-1, -3, -5]]\n",
    "\n",
    "arr = np.arange(32)\n",
    "arr = arr.reshape((8, 4))\n",
    "print(arr)\n",
    "arr[[1, 5, 7, 2]][:, [0, 3, 1, 2]]\n"
   ]
  },
  {
   "cell_type": "markdown",
   "id": "surprised-belgium",
   "metadata": {},
   "source": [
    "##### 数组置换和轴对换"
   ]
  },
  {
   "cell_type": "markdown",
   "id": "interim-occasions",
   "metadata": {},
   "source": [
    "转置是重塑的⼀种特殊形式，它返回的是源数据的视图（不会进\n",
    "⾏任何复制操作）。数组不仅有transpose⽅法，还有⼀个特殊\n",
    "的T属性"
   ]
  },
  {
   "cell_type": "code",
   "execution_count": 127,
   "id": "broke-roman",
   "metadata": {},
   "outputs": [
    {
     "name": "stdout",
     "output_type": "stream",
     "text": [
      "<class 'numpy.ndarray'>\n",
      "[[[ 0  1  2  3]\n",
      "  [ 4  5  6  7]]\n",
      "\n",
      " [[ 8  9 10 11]\n",
      "  [12 13 14 15]]]\n"
     ]
    },
    {
     "data": {
      "text/plain": [
       "array([[[ 0,  4],\n",
       "        [ 8, 12]],\n",
       "\n",
       "       [[ 1,  5],\n",
       "        [ 9, 13]],\n",
       "\n",
       "       [[ 2,  6],\n",
       "        [10, 14]],\n",
       "\n",
       "       [[ 3,  7],\n",
       "        [11, 15]]])"
      ]
     },
     "execution_count": 127,
     "metadata": {},
     "output_type": "execute_result"
    }
   ],
   "source": [
    "import numpy as np\n",
    "arr = np.arange(15).reshape((3, 5))\n",
    "arr\n",
    "arr.T\n",
    "arr1d = np.random.randn(6, 3)\n",
    "arr1d\n",
    "np.dot(arr1d.T, arr1d)\n",
    "arr2d = np.arange(16).reshape((2, 2, 4))\n",
    "print(type(arr2d))\n",
    "print(arr2d)\n",
    "# 任何时候你都要保持清醒，告诉自己第一个方括号“[]”为 0轴 ，第二个方括号为 1轴\n",
    "# 此时，transpose转换关系就清晰了\n",
    "# arr2d.transpose((1, 0, 2))\n",
    "arr2d.transpose((2, 0, 1))"
   ]
  },
  {
   "cell_type": "code",
   "execution_count": 148,
   "id": "antique-department",
   "metadata": {},
   "outputs": [
    {
     "data": {
      "text/plain": [
       "array([[-1.91776298, -0.75553801, -0.38402084, -0.57782747],\n",
       "       [-0.83607671, -0.59909725,  0.45338746, -0.22947262],\n",
       "       [-0.4642636 ,  0.56183732,  0.83405654,  0.51025207],\n",
       "       [ 0.42014564,  0.68240395,  1.13359915,  0.87706623]])"
      ]
     },
     "execution_count": 148,
     "metadata": {},
     "output_type": "execute_result"
    }
   ],
   "source": [
    "import numpy as np\n",
    "points = np.arange(-5, 5, 0.01)\n",
    "# print(points)\n",
    "xs, ys = np.meshgrid(points, points)\n",
    "# print(xs)\n",
    "# print('------------------')\n",
    "# print(ys)\n",
    "z = np.sqrt(xs ** 2 + ys ** 2)\n",
    "z\n",
    "arr = np.random.randn(4, 4)\n",
    "arr\n",
    "arr > 0\n",
    "np.where(arr > 0, 2, arr)\n",
    "(arr > 0).sum()\n",
    "# 多维数组排序可以给sort传参更新，0 0轴  1 1轴\n",
    "arr.sort(0)\n",
    "arr"
   ]
  },
  {
   "cell_type": "code",
   "execution_count": null,
   "id": "becoming-professor",
   "metadata": {},
   "outputs": [],
   "source": []
  }
 ],
 "metadata": {
  "kernelspec": {
   "display_name": "Python 3",
   "language": "python",
   "name": "python3"
  },
  "language_info": {
   "codemirror_mode": {
    "name": "ipython",
    "version": 3
   },
   "file_extension": ".py",
   "mimetype": "text/x-python",
   "name": "python",
   "nbconvert_exporter": "python",
   "pygments_lexer": "ipython3",
   "version": "3.8.5"
  }
 },
 "nbformat": 4,
 "nbformat_minor": 5
}
