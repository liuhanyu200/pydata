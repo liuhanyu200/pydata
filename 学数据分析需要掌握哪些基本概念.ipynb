{
 "cells": [
  {
   "cell_type": "markdown",
   "id": "1ff72161",
   "metadata": {},
   "source": [
    "### 学数据分析需要掌握哪些基本概念"
   ]
  },
  {
   "cell_type": "markdown",
   "id": "10e61063",
   "metadata": {},
   "source": [
    "- Apriori 算法 - 分析购物篮中的商品集合，找出商品之间的关联关系。利用这种隐性关联关系，商家就可以强化这类购买行为，从而提升销售额"
   ]
  },
  {
   "cell_type": "markdown",
   "id": "0b10b09e",
   "metadata": {},
   "source": [
    "#### 商业智能BI"
   ]
  },
  {
   "cell_type": "markdown",
   "id": "545c95d9",
   "metadata": {},
   "source": [
    "#### 数据仓库DW"
   ]
  },
  {
   "cell_type": "markdown",
   "id": "9c3b3d4e",
   "metadata": {},
   "source": [
    "#### 数据挖掘DM"
   ]
  },
  {
   "cell_type": "markdown",
   "id": "5ed938b5",
   "metadata": {},
   "source": [
    "#### 元数据 (MetaData) vs 数据元(Data Element)"
   ]
  },
  {
   "cell_type": "markdown",
   "id": "41e208fd",
   "metadata": {},
   "source": [
    "### 数据挖掘的流程"
   ]
  },
  {
   "cell_type": "markdown",
   "id": "5bb5aa37",
   "metadata": {},
   "source": [
    "- 分类\n",
    "\n",
    "就是通过训练集得到一个分类模型，然后用这个模型可以对其他数据进行分类。\n",
    "这里需要说明下训练集和测试集的概念。一般来说数据可以划分为训练集和测试集。训练集是用来给机器做训练的，通常是人们整理好训练数据，以及这些数据对应的分类标识。通过训练，机器就产生了自我分类的模型，然后机器就可以拿着这个分类模型，对测试集中的数据进行分类预测。同样如果测试集中，人们已经给出了测试结果，我们就可以用测试结果来做验证，从而了解分类器在测试环境下的表现。"
   ]
  },
  {
   "cell_type": "markdown",
   "id": "6dd91e35",
   "metadata": {},
   "source": [
    "- 聚类\n",
    "\n",
    "人以群分，物以类聚。聚类就是将数据自动聚类成几个类别，聚到一起的相似度大，不在一起的差异性大。我们往往利用聚类来做数据划分。"
   ]
  },
  {
   "cell_type": "markdown",
   "id": "e65fedd3",
   "metadata": {},
   "source": [
    "- 预测\n",
    "\n",
    "顾名思义，就是通过当前和历史数据来预测未来趋势，它可以更好地帮助我们识别机遇和风险。"
   ]
  },
  {
   "cell_type": "markdown",
   "id": "889bf2c1",
   "metadata": {},
   "source": [
    "- 关联分析\n",
    "\n",
    "就是发现数据中的关联规则，它被广泛应用在购物篮分析，或事务数据分析中。比如我们开头提到的那个案例。\n",
    "数据挖掘要怎么完成这些任务呢？它需要将数据库中的数据经过一系列的加工计算，最终得出有用的信息。"
   ]
  },
  {
   "cell_type": "markdown",
   "id": "4143790e",
   "metadata": {},
   "source": [
    "#### 数据预处理"
   ]
  },
  {
   "cell_type": "markdown",
   "id": "dcda7d57",
   "metadata": {},
   "source": []
  },
  {
   "cell_type": "code",
   "execution_count": null,
   "id": "6e62eb7b",
   "metadata": {},
   "outputs": [],
   "source": [
    "aaa"
   ]
  },
  {
   "cell_type": "code",
   "execution_count": null,
   "id": "fcf9c228",
   "metadata": {},
   "outputs": [],
   "source": []
  },
  {
   "cell_type": "code",
   "execution_count": null,
   "id": "5e000be1",
   "metadata": {},
   "outputs": [],
   "source": []
  }
 ],
 "metadata": {
  "kernelspec": {
   "display_name": "Python 3 (ipykernel)",
   "language": "python",
   "name": "python3"
  },
  "language_info": {
   "codemirror_mode": {
    "name": "ipython",
    "version": 3
   },
   "file_extension": ".py",
   "mimetype": "text/x-python",
   "name": "python",
   "nbconvert_exporter": "python",
   "pygments_lexer": "ipython3",
   "version": "3.8.5"
  }
 },
 "nbformat": 4,
 "nbformat_minor": 5
}
